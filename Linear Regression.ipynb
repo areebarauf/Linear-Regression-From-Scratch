{
 "cells": [
  {
   "cell_type": "code",
   "execution_count": 27,
   "id": "7e5bfa93",
   "metadata": {},
   "outputs": [],
   "source": [
    "import numpy as np"
   ]
  },
  {
   "cell_type": "code",
   "execution_count": 112,
   "id": "796e5e22",
   "metadata": {},
   "outputs": [],
   "source": [
    "mu, sigma = 2, 1 # mean and standard deviation\n",
    "np.random.seed(0)\n",
    "A = np.random.normal(mu, sigma, size=(100,2))"
   ]
  },
  {
   "cell_type": "code",
   "execution_count": 113,
   "id": "1efbfb01",
   "metadata": {},
   "outputs": [],
   "source": [
    "X=A[:,0]\n",
    "Y=A[:,1]"
   ]
  },
  {
   "cell_type": "code",
   "execution_count": 114,
   "id": "9abfb709",
   "metadata": {},
   "outputs": [
    {
     "name": "stdout",
     "output_type": "stream",
     "text": [
      "[ 3.76405235  2.97873798  3.86755799  2.95008842  1.89678115  2.14404357\n",
      "  2.76103773  2.44386323  3.49407907  2.3130677  -0.55298982  2.8644362\n",
      "  4.26975462  2.04575852  3.53277921  2.15494743  1.11221425  1.65208785\n",
      "  3.23029068  1.61267318  0.95144703  0.29372981  1.49034782  0.74720464\n",
      "  0.38610215  1.10453344  1.48919486  1.97181777  2.06651722  1.36567791\n",
      "  1.32753955  1.18685372  2.17742614  0.36980165  1.09270164  2.72909056\n",
      "  3.13940068  2.40234164  1.12920285  1.68844747  0.83485016  2.46566244\n",
      "  3.48825219  3.17877957  0.92924738  1.59682305  2.20827498  2.3563664\n",
      "  2.01050002  2.12691209  3.8831507   0.729515    0.82687659  1.58638102\n",
      "  3.92294203  3.86755896  1.13877431  1.73199663  2.94725197  2.61407937\n",
      "  2.37642553  2.29823817  1.30543214  1.56484645  2.67229476  1.23008393\n",
      "  1.32566734  1.36415392  2.57659082  2.39600671  0.50874241  2.1666735\n",
      "  4.38314477  1.08717777  0.68409259  1.93175839  1.25524518  1.90154748\n",
      "  3.12663592  0.85253135  1.50196755  2.94942081  0.77456448  0.99978465\n",
      "  3.18802979  2.92085882  2.85683061  0.96575716  1.19659034  1.5444675\n",
      "  1.64600609  1.3563816   2.62523145  0.89561666  1.260437    0.70714309\n",
      "  1.96071718  2.52327666  2.77179055  4.16323595]\n",
      "[ 2.40015721  4.2408932   1.02272212  1.84864279  2.4105985   3.45427351\n",
      "  2.12167502  2.33367433  1.79484174  1.14590426  2.6536186   1.25783498\n",
      "  0.54563433  1.81281615  3.46935877  2.37816252  0.01920353  2.15634897\n",
      "  3.20237985  1.69769725  0.57998206  3.9507754   1.5619257   2.77749036\n",
      "  1.78725972  2.3869025   0.81936782  2.42833187  2.3024719   1.63725883\n",
      "  1.64044684  0.2737174   1.59821906  2.46278226  2.0519454   2.12898291\n",
      "  0.76517418  1.31518991  1.42115034  2.05616534  2.90082649  0.46375631\n",
      "  3.89588918  1.82007516  3.05445173  3.22244507  2.97663904  2.70657317\n",
      "  3.78587049  2.40198936  0.65224094  2.96939671  3.94362119  1.25254519\n",
      "  3.48051479  2.90604466  3.91006495  2.8024564   1.84498991  2.92220667\n",
      "  0.90059921  3.3263859   1.85036546  3.84926373  2.40746184  2.53924919\n",
      "  2.03183056  2.67643329  1.79170124  0.90693849  2.4393917   2.63503144\n",
      "  2.94447949  3.11701629  1.5384154   3.71334272  1.17356146  1.33652171\n",
      "  0.92006849  1.56217996  3.92953205  2.08755124  2.84436298  0.4552289\n",
      "  2.31694261  2.31872765  1.34897441  2.68159452  1.31045022  2.01747916\n",
      "  0.62504871 -0.22340315  0.39794234  2.05216508  3.5430146   2.26705087\n",
      "  0.8319065   1.82845367  2.82350415  3.33652795]\n"
     ]
    }
   ],
   "source": [
    "print(X)\n",
    "print(Y)"
   ]
  },
  {
   "cell_type": "code",
   "execution_count": 115,
   "id": "397ac6e7",
   "metadata": {},
   "outputs": [
    {
     "data": {
      "image/png": "[encoded data removed]",
      "text/plain": [
       "<Figure size 432x288 with 1 Axes>"
      ]
     },
     "metadata": {
      "needs_background": "light"
     },
     "output_type": "display_data"
    }
   ],
   "source": [
    "import matplotlib.pyplot as plt\n",
    "plt.plot(X,Y,'go')\n",
    "plt.ylabel('Random Y')\n",
    "plt.xlabel('Random X')\n",
    "plt.title('Linear Regression')\n",
    "plt.grid()\n",
    "plt.show()"
   ]
  },
  {
   "cell_type": "code",
   "execution_count": 116,
   "id": "84d66521",
   "metadata": {},
   "outputs": [],
   "source": [
    "def mean(values):\n",
    "\treturn sum(values) / float(len(values))\n",
    "\n",
    "def variance(values, mean):\n",
    "\treturn sum([(x-mean)**2 for x in values])\n",
    " \n",
    "def covariance(x, mean_x, y, mean_y):\n",
    "\tcovar = 0.0\n",
    "\tfor i in range(len(x)):\n",
    "\t\tcovar += (x[i] - mean_x) * (y[i] - mean_y)\n",
    "\treturn covar\n",
    " "
   ]
  },
  {
   "cell_type": "code",
   "execution_count": 117,
   "id": "77ac71bc",
   "metadata": {},
   "outputs": [
    {
     "name": "stdout",
     "output_type": "stream",
     "text": [
      "x stats: mean=1.999 variance=104.440\n",
      "y stats: mean=2.143 variance=103.188\n",
      "Covariance:-2.4920293523629207\n"
     ]
    }
   ],
   "source": [
    "#Now will calculate mean of x and y and will calculate variance and covariance\n",
    "mean_x, mean_y = mean(X), mean(Y)\n",
    "var_x, var_y = variance(X, mean_x), variance(Y, mean_y)\n",
    "print('x stats: mean=%.3f variance=%.3f' % (mean_x, var_x))\n",
    "print('y stats: mean=%.3f variance=%.3f' % (mean_y, var_y))\n",
    "# Covariance\n",
    "covar = covariance(X, mean_x, Y, mean_y)\n",
    "print('Covariance:'+ str(covar))"
   ]
  },
  {
   "cell_type": "code",
   "execution_count": 118,
   "id": "2b5c389d",
   "metadata": {},
   "outputs": [
    {
     "name": "stdout",
     "output_type": "stream",
     "text": [
      "2.190477652700939 -0.023860917890475692\n"
     ]
    }
   ],
   "source": [
    "def coefficients(dataset):\n",
    "\tx = [row[0] for row in dataset]\n",
    "\ty = [row[1] for row in dataset]\n",
    "\tx_mean, y_mean = mean(x), mean(y)\n",
    "\tb1 = covariance(x, x_mean, y, y_mean) / variance(x, x_mean)\n",
    "\tb0 = y_mean - b1 * x_mean\n",
    "\treturn [b0, b1]\n",
    "#when B0=0\n",
    "def coefficientsB0(dataset):\n",
    "\tx = [row[0] for row in dataset]\n",
    "\ty = [row[1] for row in dataset]\n",
    "\tx_mean, y_mean = mean(x), mean(y)\n",
    "\tb1 = covariance(x, x_mean, y, y_mean) / variance(x, x_mean)\n",
    "\tb0 = 0\n",
    "\treturn [b0, b1]\n",
    "#when B1=0\n",
    "def coefficientsB1(dataset):\n",
    "\tx = [row[0] for row in dataset]\n",
    "\ty = [row[1] for row in dataset]\n",
    "\tx_mean, y_mean = mean(x), mean(y)\n",
    "\tb1 = 0\n",
    "\tb0 = y_mean - b1 * x_mean\n",
    "\treturn [b0, b1]\n",
    "b0, b1 = coefficients(A)\n",
    "print(str(b0), str(b1))\n"
   ]
  },
  {
   "cell_type": "code",
   "execution_count": 119,
   "id": "0693a98b",
   "metadata": {},
   "outputs": [],
   "source": [
    "from math import sqrt\n",
    "\n",
    "#implementing the linear regression Algorithm\n",
    "def SLR(dataset,b0,b1):\n",
    "\tpredictions = list()\n",
    "\tfor row in dataset:\n",
    "\t\ty = b0 + b1 * row[0]\n",
    "\t\tpredictions.append(y)\n",
    "\treturn predictions\n",
    "\n",
    "# Calculating root mean squared error/Guassian Error\n",
    "def rmse(actual, predicted):\n",
    "\tsum_error = 0.0\n",
    "\tfor i in range(len(actual)):\n",
    "\t\tprediction_error = predicted[i] - actual[i]\n",
    "\t\tsum_error += (prediction_error ** 2)\n",
    "\tmean_error = sum_error / float(len(actual))\n",
    "\treturn sqrt(mean_error)\n",
    "\n",
    "# Evaluating regression algorithm on training data\n",
    "def train_data(dataset, algorithm):\n",
    "\ttest_set = list()\n",
    "\tfor row in dataset:\n",
    "\t\trow_value = list(row)\n",
    "\t\ttest_set.append(row_value)\n",
    "\tpredicted = algorithm(test_set,b0,b1)\n",
    "\tprint(predicted)\n",
    "\tactual = Y\n",
    "\trmse_ = rmse(actual, predicted)\n",
    "\tprint(rmse_)\n",
    "\treturn predicted\n"
   ]
  },
  {
   "cell_type": "code",
   "execution_count": 120,
   "id": "93abaab1",
   "metadata": {},
   "outputs": [
    {
     "name": "stdout",
     "output_type": "stream",
     "text": [
      "[2.100663908738352, 2.119402230244951, 2.0981941690613177, 2.1200858352007175, 2.145218713467383, 2.139318805095867, 2.124596758248701, 2.132164832768848, 2.107105718833496, 2.1352857341967355, 2.2036724972908255, 2.1221295757574463, 2.088597388205492, 2.141663976695868, 2.106182297941953, 2.139058629118093, 2.1639391997485244, 2.151057320148158, 2.113399952005726, 2.1519977903069383, 2.1677752531232684, 2.1834689898374573, 2.1549165857814656, 2.172648664139708, 2.1812649009441833, 2.1641224710102964, 2.1549440963655515, 2.143428270756347, 2.1411686549384004, 2.157891324313424, 2.1588013404489623, 2.162158233588796, 2.138522266308047, 2.1816538458221335, 2.164404788694699, 2.1253590468811487, 2.115568670741748, 2.133155576055931, 2.1635338361958767, 2.1501897463076487, 2.1705573616010203, 2.1316446836809004, 2.1072447535235104, 2.1146290543615773, 2.1683049573028623, 2.1523759889470475, 2.137786184769455, 2.1342525875780844, 2.1425052767877197, 2.1397275778966782, 2.0978221127621364, 2.173070755149937, 2.1707476181648118, 2.1526251454578382, 2.0968726551179944, 2.098194145909627, 2.1633054522762465, 2.1491506233486293, 2.1201535154953466, 2.1281033194859247, 2.1337739582292046, 2.135639580333452, 2.1593288435904014, 2.1531389800873666, 2.126714246924717, 2.1611267211548846, 2.1588460131667992, 2.157927687987167, 2.1289978307883364, 2.133306733265091, 2.1783385918930844, 2.1387788343323852, 2.085891795125843, 2.164536593089912, 2.1741545755936715, 2.144384124261353, 2.1605263505774213, 2.145104984521413, 2.115873249690144, 2.170135472217064, 2.154639328332749, 2.1201017650024228, 2.1719958332148668, 2.166621873196844, 2.1144083355932306, 2.1207832801370334, 2.1223110520433317, 2.167433800446619, 2.161925908949254, 2.153625240582858, 2.151202436570135, 2.158113142782782, 2.127837220604485, 2.1691074171016993, 2.160402468851715, 2.173604569487033, 2.1436931410202202, 2.1302699554890374, 2.1243401859488333, 2.091139021556476]\n",
      "1.015522679830229\n"
     ]
    }
   ],
   "source": [
    "predicted=list()\n",
    "predicted=train_data(A, SLR)"
   ]
  },
  {
   "cell_type": "code",
   "execution_count": 126,
   "id": "1cceb7c0",
   "metadata": {},
   "outputs": [
    {
     "data": {
      "image/png": "[encoded data removed]",
      "text/plain": [
       "<Figure size 432x288 with 1 Axes>"
      ]
     },
     "metadata": {
      "needs_background": "light"
     },
     "output_type": "display_data"
    }
   ],
   "source": [
    "import matplotlib.pyplot as plt\n",
    "plt.scatter(X, Y, label='Actual Data')\n",
    "plt.plot(X, predicted, 'r', label='Fitted line')\n",
    "plt.legend()\n",
    "plt.show()"
   ]
  },
  {
   "cell_type": "code",
   "execution_count": 124,
   "id": "c8048a3f",
   "metadata": {},
   "outputs": [
    {
     "data": {
      "text/plain": [
       "(2.190477652700939, -0.023860917890475508)"
      ]
     },
     "execution_count": 124,
     "metadata": {},
     "output_type": "execute_result"
    }
   ],
   "source": [
    "A=np.vstack([X,np.ones(len(X))]).T\n",
    "b1, b0 = np.linalg.lstsq(A, Y, rcond=None)[0]\n",
    "b0, b1"
   ]
  },
  {
   "cell_type": "code",
   "execution_count": 127,
   "id": "71782f15",
   "metadata": {},
   "outputs": [
    {
     "data": {
      "image/png": "[encoded data removed]",
      "text/plain": [
       "<Figure size 432x288 with 1 Axes>"
      ]
     },
     "metadata": {
      "needs_background": "light"
     },
     "output_type": "display_data"
    }
   ],
   "source": [
    "import matplotlib.pyplot as plt\n",
    "plt.scatter(X, Y,label='Actual Data')\n",
    "plt.plot(X, b1*X +b0, 'r', label='Fitted line')\n",
    "plt.legend()\n",
    "plt.show()"
   ]
  },
  {
   "cell_type": "code",
   "execution_count": null,
   "id": "7ecadd2b",
   "metadata": {},
   "outputs": [],
   "source": []
  },
  {
   "cell_type": "code",
   "execution_count": null,
   "id": "9dd12ed5",
   "metadata": {},
   "outputs": [],
   "source": []
  }
 ],
 "metadata": {
  "kernelspec": {
   "display_name": "Python 3 (ipykernel)",
   "language": "python",
   "name": "python3"
  },
  "language_info": {
   "codemirror_mode": {
    "name": "ipython",
    "version": 3
   },
   "file_extension": ".py",
   "mimetype": "text/x-python",
   "name": "python",
   "nbconvert_exporter": "python",
   "pygments_lexer": "ipython3",
   "version": "3.9.7"
  }
 },
 "nbformat": 4,
 "nbformat_minor": 5
}
